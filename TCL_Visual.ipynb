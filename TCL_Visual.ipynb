{
  "cells": [
    {
      "cell_type": "markdown",
      "metadata": {
        "id": "V7LXvq8X3QIc"
      },
      "source": [
        "## Generación de números aleatorios en Python."
      ]
    },
    {
      "cell_type": "code",
      "execution_count": null,
      "metadata": {
        "id": "p-TJbI732bn3"
      },
      "outputs": [],
      "source": [
        "import numpy as np\n",
        "\n",
        "import numpy.random as npr"
      ]
    },
    {
      "cell_type": "code",
      "execution_count": null,
      "metadata": {
        "colab": {
          "base_uri": "https://localhost:8080/"
        },
        "id": "0UomO6Dm3nRh",
        "outputId": "87213c1c-ce3c-484c-dba1-ba5afed0e197"
      },
      "outputs": [
        {
          "data": {
            "text/plain": [
              "0.5488135039273248"
            ]
          },
          "execution_count": 6,
          "metadata": {},
          "output_type": "execute_result"
        }
      ],
      "source": [
        "# Para generar una variabe aleatoria unif (0,1)\n",
        "\n",
        "npr.seed(0)\n",
        "\n",
        "npr.rand()"
      ]
    },
    {
      "cell_type": "code",
      "execution_count": null,
      "metadata": {
        "colab": {
          "base_uri": "https://localhost:8080/"
        },
        "id": "HtVLfJBV3_2C",
        "outputId": "b16105ce-215b-43ba-e09e-364b0d186c83"
      },
      "outputs": [
        {
          "data": {
            "text/plain": [
              "array([0.71518937, 0.60276338, 0.54488318, 0.4236548 , 0.64589411,\n",
              "       0.43758721, 0.891773  , 0.96366276, 0.38344152, 0.79172504])"
            ]
          },
          "execution_count": 9,
          "metadata": {},
          "output_type": "execute_result"
        }
      ],
      "source": [
        "muestra = npr.random(size = 10)\n",
        "\n",
        "muestra"
      ]
    },
    {
      "cell_type": "code",
      "execution_count": null,
      "metadata": {
        "colab": {
          "base_uri": "https://localhost:8080/"
        },
        "id": "uNKlyH6A4m4q",
        "outputId": "ab96908d-830e-4022-f0e5-44237bb97ebe"
      },
      "outputs": [
        {
          "data": {
            "text/plain": [
              "array([1.05778984, 1.13608912, 1.85119328, 0.14207212, 0.1742586 ,\n",
              "       0.04043679, 1.66523969, 1.5563135 , 1.7400243 , 1.95723668])"
            ]
          },
          "execution_count": 10,
          "metadata": {},
          "output_type": "execute_result"
        }
      ],
      "source": [
        "muestra_uniformes = npr.uniform(0, 2, 10)\n",
        "muestra_uniformes"
      ]
    },
    {
      "cell_type": "markdown",
      "metadata": {
        "id": "2h-kiJwr6SCw"
      },
      "source": [
        "# El Teorema Central del Límite\n",
        "\n",
        "Sea $X_{1}, X_{2}, \\dots, X_{n}$ una $n$-muestra. Sea $S_n = X_{1}+X_{2}+\\cdots+ X_{n}$.\n",
        "\n",
        "Observación:\n",
        "\n",
        "Ya que se tiene una $n$-muestra, por hipótesis\n",
        "*   $\\mathbb{E}[X_i]=\\mu<\\infty$\n",
        "*   $\\text{Var}[X_i]=\\sigma^2 < \\infty $\n",
        "\n",
        "lo que implica\n",
        "$$\\mathbb{E}[S_n]=n\\mu<\\infty$$\n",
        "y\n",
        "$$\\text{Var}[S_n]=\\text{Var}[X_1]+\\cdots + \\text{Var}[X_n]=n\\sigma^{2}<\\infty$$\n",
        "\n",
        "$$Z_{n}:=\\frac{S_n - n\\mu}{\\sqrt{n\\sigma^2}}.$$\n",
        "\n",
        "Si $a<b$, entonces\n",
        "$$\\lim_{n\\to \\infty}\\mathbb{P}\\left(a < Z_n <b \\right)=\\Phi(b)-\\Phi(a),$$\n",
        "en dónde\n",
        "$$\\Phi(a)=\\int_{-\\infty}^{a}\\frac{1}{\\sqrt{2\\pi}}e^{-x^{2}/2}dx.$$\n",
        "\n",
        "\n"
      ]
    },
    {
      "cell_type": "markdown",
      "metadata": {
        "id": "_pKb1XefCJgl"
      },
      "source": [
        "## Simulación del TCL (DeMoivre-Laplace).\n",
        "\n",
        "\n",
        "\n",
        "*   Tomar muestras de cierto tamaño.\n",
        "*   Media de las muestras.\n",
        "*   Histograma (representar a la normalidad).   \n",
        "   \n",
        "\n"
      ]
    },
    {
      "cell_type": "code",
      "execution_count": null,
      "metadata": {
        "colab": {
          "base_uri": "https://localhost:8080/"
        },
        "id": "s26Qnm5e45Gp",
        "outputId": "d4661c88-6408-44a0-f5d4-bda1924321c3"
      },
      "outputs": [
        {
          "data": {
            "text/plain": [
              "array([2, 1, 3, 2, 3, 3, 3, 2, 2, 2, 2, 1, 3, 1, 3, 1, 2, 2, 3, 3, 1, 0,\n",
              "       2, 1, 1, 1, 3, 3, 3, 1, 3, 2, 0, 2, 1, 2, 1, 1, 3, 1, 0, 1, 2, 1,\n",
              "       3, 2, 1, 2, 2, 3, 3, 1, 3, 2, 2, 3, 2, 3, 2, 1, 3, 2, 1, 2, 3, 2,\n",
              "       1, 2, 0, 2, 1, 3, 3, 1, 2, 3, 1, 2, 1, 1, 1, 2, 1, 2, 2, 1, 2, 0,\n",
              "       1, 2, 3, 0, 2, 2, 2, 2, 1, 2, 3, 2, 2, 2, 1, 2, 1, 2, 3, 1, 1, 0,\n",
              "       3, 3, 1, 1, 3, 1, 1, 1, 1, 3, 3, 3, 3, 2, 1, 2, 2, 1, 3, 2, 2, 0,\n",
              "       2, 3, 1, 2, 1, 2, 1, 1, 2, 3, 3, 3, 3, 3, 2, 1, 2, 3, 3, 0, 2, 3,\n",
              "       2, 1, 3, 2, 0, 1, 2, 2, 2, 1, 3, 3, 3, 2, 2, 2, 2, 0, 2, 2, 2, 1,\n",
              "       1, 2, 3, 2, 2, 3, 1, 3, 2, 1, 3, 2, 2, 1, 2, 3, 1, 1, 1, 1, 3, 2,\n",
              "       2, 0, 0, 2, 1, 2, 2, 2, 2, 2, 1, 1, 2, 0, 3, 3, 3, 2, 3, 0, 1, 3,\n",
              "       3, 2, 3, 1, 2, 0, 2, 1, 1, 1, 2, 2, 1, 2, 2, 2, 3, 2, 2, 1, 2, 1,\n",
              "       2, 3, 1, 2, 3, 2, 1, 1, 3, 0, 2, 0, 2, 1, 2, 2, 2, 2, 1, 1, 1, 1,\n",
              "       1, 2, 1, 2, 2, 2, 2, 2, 2, 2, 0, 1, 3, 2, 2, 1, 1, 1, 1, 2, 2, 1,\n",
              "       2, 1, 2, 1, 2, 1, 2, 2, 2, 3, 2, 3, 0, 3, 1, 1, 1, 2, 3, 2, 2, 2,\n",
              "       2, 2, 1, 1, 2, 3, 3, 2, 1, 3, 2, 1, 2, 2, 2, 3, 2, 2, 3, 2, 2, 1,\n",
              "       3, 1, 2, 2, 1, 3, 2, 1, 1, 2, 1, 0, 1, 1, 3, 1, 1, 2, 1, 3, 1, 1,\n",
              "       2, 2, 2, 2, 1, 2, 1, 0, 2, 3, 1, 2, 0, 2, 0, 2, 2, 3, 2, 3, 3, 1,\n",
              "       3, 2, 1, 1, 1, 3, 2, 2, 0, 3, 2, 2, 1, 2, 3, 2, 3, 1, 2, 3, 2, 1,\n",
              "       2, 1, 2, 2, 0, 1, 3, 1, 2, 0, 2, 2, 3, 2, 3, 2, 1, 1, 1, 2, 1, 2,\n",
              "       1, 2, 3, 3, 3, 3, 2, 3, 3, 1, 2, 1, 2, 2, 2, 2, 1, 2, 1, 3, 1, 3,\n",
              "       2, 3, 2, 3, 0, 1, 1, 1, 3, 3, 3, 2, 1, 0, 1, 1, 1, 2, 2, 3, 3, 1,\n",
              "       3, 2, 1, 2, 0, 2, 2, 2, 1, 2, 2, 2, 0, 3, 1, 1, 3, 2, 2, 1, 2, 1,\n",
              "       2, 2, 2, 3, 2, 2, 2, 1, 2, 2, 2, 1, 0, 1, 1, 2, 3, 2, 2, 3, 2, 2,\n",
              "       1, 3, 1, 2, 2, 2, 3, 2, 1, 2, 2, 3, 2, 0, 1, 2, 0, 1, 2, 3, 3, 3,\n",
              "       2, 2, 0, 3, 0, 1, 1, 2, 1, 2, 3, 2, 2, 1, 2, 2, 3, 3, 1, 2, 0, 2,\n",
              "       2, 2, 1, 2, 3, 2, 2, 1, 1, 3, 3, 2, 1, 3, 1, 1, 2, 1, 2, 3, 2, 1,\n",
              "       1, 1, 1, 2, 2, 2, 1, 2, 1, 3, 1, 2, 1, 2, 1, 2, 3, 1, 2, 1, 1, 2,\n",
              "       3, 3, 3, 2, 3, 3, 1, 1, 3, 2, 3, 1, 1, 2, 2, 1, 2, 1, 1, 2, 3, 0,\n",
              "       3, 3, 2, 2, 3, 1, 3, 2, 1, 3, 2, 1, 2, 2, 2, 1, 0, 2, 1, 3, 1, 3,\n",
              "       2, 2, 3, 1, 2, 2, 2, 3, 3, 3, 2, 2, 2, 3, 1, 3, 0, 3, 2, 3, 1, 3,\n",
              "       2, 1, 3, 2, 2, 1, 1, 3, 1, 3, 1, 2, 2, 1, 1, 0, 2, 3, 1, 1, 1, 2,\n",
              "       1, 1, 2, 1, 1, 2, 2, 1, 3, 1, 1, 2, 3, 2, 2, 1, 2, 2, 3, 2, 2, 2,\n",
              "       2, 2, 1, 2, 2, 1, 2, 2, 2, 2, 1, 2, 1, 2, 1, 3, 2, 1, 2, 1, 2, 2,\n",
              "       1, 3, 2, 0, 2, 3, 1, 2, 1, 2, 0, 2, 1, 3, 0, 3, 2, 0, 3, 1, 1, 2,\n",
              "       2, 1, 2, 3, 1, 1, 2, 1, 2, 1, 2, 2, 3, 0, 2, 3, 3, 3, 1, 2, 1, 2,\n",
              "       1, 1, 1, 2, 2, 3, 2, 3, 2, 2, 2, 0, 2, 0, 2, 2, 1, 2, 2, 1, 2, 2,\n",
              "       2, 1, 2, 1, 2, 2, 2, 1, 1, 3, 2, 1, 2, 1, 2, 2, 1, 2, 3, 2, 0, 2,\n",
              "       1, 3, 2, 3, 1, 1, 1, 2, 1, 2, 2, 2, 2, 3, 2, 1, 2, 1, 3, 3, 2, 1,\n",
              "       3, 2, 2, 2, 3, 2, 2, 1, 1, 2, 2, 3, 2, 2, 1, 1, 2, 3, 2, 0, 0, 2,\n",
              "       3, 2, 2, 2, 2, 2, 1, 1, 2, 1, 3, 0, 3, 3, 2, 3, 2, 3, 2, 3, 1, 1,\n",
              "       2, 3, 1, 2, 1, 2, 2, 3, 2, 2, 2, 2, 2, 2, 0, 2, 1, 2, 1, 2, 2, 1,\n",
              "       3, 0, 2, 2, 0, 3, 2, 3, 2, 3, 2, 0, 1, 2, 1, 1, 2, 2, 3, 2, 3, 1,\n",
              "       2, 2, 1, 2, 2, 2, 3, 2, 3, 2, 2, 0, 3, 1, 2, 1, 3, 3, 2, 1, 3, 1,\n",
              "       2, 2, 3, 2, 2, 1, 3, 3, 3, 3, 1, 2, 2, 2, 0, 1, 1, 1, 3, 3, 2, 2,\n",
              "       0, 2, 2, 1, 2, 1, 2, 2, 2, 2, 2, 1, 3, 3, 1, 2, 2, 2, 2, 3, 1, 0,\n",
              "       1, 2, 2, 2, 2, 0, 2, 1, 2, 1])"
            ]
          },
          "execution_count": 12,
          "metadata": {},
          "output_type": "execute_result"
        }
      ],
      "source": [
        "npr.seed(1)\n",
        "\n",
        "muestras_binomiales = npr.binomial(3, 0.6, 1000)\n",
        "muestras_binomiales"
      ]
    },
    {
      "cell_type": "code",
      "execution_count": null,
      "metadata": {
        "colab": {
          "base_uri": "https://localhost:8080/",
          "height": 447
        },
        "id": "Sfs_kF1JD0RS",
        "outputId": "f3eb364a-b7e8-4c9a-a2e6-f3da4c595fcc"
      },
      "outputs": [
        {
          "data": {
            "application/vnd.google.colaboratory.intrinsic+json": {
              "summary": "{\n  \"name\": \"df_media\",\n  \"rows\": 100,\n  \"fields\": [\n    {\n      \"column\": \"muestra de las medias\",\n      \"properties\": {\n        \"dtype\": \"number\",\n        \"std\": 2.14272752643103,\n        \"min\": 592.86,\n        \"max\": 605.16,\n        \"num_unique_values\": 86,\n        \"samples\": [\n          599.76,\n          599.46,\n          600.92\n        ],\n        \"semantic_type\": \"\",\n        \"description\": \"\"\n      }\n    }\n  ]\n}",
              "type": "dataframe",
              "variable_name": "df_media"
            },
            "text/html": [
              "\n",
              "  <div id=\"df-83a06d57-a523-4228-93e7-d0ee7f111697\" class=\"colab-df-container\">\n",
              "    <div>\n",
              "<style scoped>\n",
              "    .dataframe tbody tr th:only-of-type {\n",
              "        vertical-align: middle;\n",
              "    }\n",
              "\n",
              "    .dataframe tbody tr th {\n",
              "        vertical-align: top;\n",
              "    }\n",
              "\n",
              "    .dataframe thead th {\n",
              "        text-align: right;\n",
              "    }\n",
              "</style>\n",
              "<table border=\"1\" class=\"dataframe\">\n",
              "  <thead>\n",
              "    <tr style=\"text-align: right;\">\n",
              "      <th></th>\n",
              "      <th>muestra de las medias</th>\n",
              "    </tr>\n",
              "  </thead>\n",
              "  <tbody>\n",
              "    <tr>\n",
              "      <th>muestras_1</th>\n",
              "      <td>599.46</td>\n",
              "    </tr>\n",
              "    <tr>\n",
              "      <th>muestras_2</th>\n",
              "      <td>604.18</td>\n",
              "    </tr>\n",
              "    <tr>\n",
              "      <th>muestras_3</th>\n",
              "      <td>601.84</td>\n",
              "    </tr>\n",
              "    <tr>\n",
              "      <th>muestras_4</th>\n",
              "      <td>599.44</td>\n",
              "    </tr>\n",
              "    <tr>\n",
              "      <th>muestras_5</th>\n",
              "      <td>597.68</td>\n",
              "    </tr>\n",
              "    <tr>\n",
              "      <th>...</th>\n",
              "      <td>...</td>\n",
              "    </tr>\n",
              "    <tr>\n",
              "      <th>muestras_96</th>\n",
              "      <td>596.72</td>\n",
              "    </tr>\n",
              "    <tr>\n",
              "      <th>muestras_97</th>\n",
              "      <td>599.94</td>\n",
              "    </tr>\n",
              "    <tr>\n",
              "      <th>muestras_98</th>\n",
              "      <td>601.56</td>\n",
              "    </tr>\n",
              "    <tr>\n",
              "      <th>muestras_99</th>\n",
              "      <td>603.28</td>\n",
              "    </tr>\n",
              "    <tr>\n",
              "      <th>muestras_100</th>\n",
              "      <td>599.46</td>\n",
              "    </tr>\n",
              "  </tbody>\n",
              "</table>\n",
              "<p>100 rows × 1 columns</p>\n",
              "</div>\n",
              "    <div class=\"colab-df-buttons\">\n",
              "\n",
              "  <div class=\"colab-df-container\">\n",
              "    <button class=\"colab-df-convert\" onclick=\"convertToInteractive('df-83a06d57-a523-4228-93e7-d0ee7f111697')\"\n",
              "            title=\"Convert this dataframe to an interactive table.\"\n",
              "            style=\"display:none;\">\n",
              "\n",
              "  <svg xmlns=\"http://www.w3.org/2000/svg\" height=\"24px\" viewBox=\"0 -960 960 960\">\n",
              "    <path d=\"M120-120v-720h720v720H120Zm60-500h600v-160H180v160Zm220 220h160v-160H400v160Zm0 220h160v-160H400v160ZM180-400h160v-160H180v160Zm440 0h160v-160H620v160ZM180-180h160v-160H180v160Zm440 0h160v-160H620v160Z\"/>\n",
              "  </svg>\n",
              "    </button>\n",
              "\n",
              "  <style>\n",
              "    .colab-df-container {\n",
              "      display:flex;\n",
              "      gap: 12px;\n",
              "    }\n",
              "\n",
              "    .colab-df-convert {\n",
              "      background-color: #E8F0FE;\n",
              "      border: none;\n",
              "      border-radius: 50%;\n",
              "      cursor: pointer;\n",
              "      display: none;\n",
              "      fill: #1967D2;\n",
              "      height: 32px;\n",
              "      padding: 0 0 0 0;\n",
              "      width: 32px;\n",
              "    }\n",
              "\n",
              "    .colab-df-convert:hover {\n",
              "      background-color: #E2EBFA;\n",
              "      box-shadow: 0px 1px 2px rgba(60, 64, 67, 0.3), 0px 1px 3px 1px rgba(60, 64, 67, 0.15);\n",
              "      fill: #174EA6;\n",
              "    }\n",
              "\n",
              "    .colab-df-buttons div {\n",
              "      margin-bottom: 4px;\n",
              "    }\n",
              "\n",
              "    [theme=dark] .colab-df-convert {\n",
              "      background-color: #3B4455;\n",
              "      fill: #D2E3FC;\n",
              "    }\n",
              "\n",
              "    [theme=dark] .colab-df-convert:hover {\n",
              "      background-color: #434B5C;\n",
              "      box-shadow: 0px 1px 3px 1px rgba(0, 0, 0, 0.15);\n",
              "      filter: drop-shadow(0px 1px 2px rgba(0, 0, 0, 0.3));\n",
              "      fill: #FFFFFF;\n",
              "    }\n",
              "  </style>\n",
              "\n",
              "    <script>\n",
              "      const buttonEl =\n",
              "        document.querySelector('#df-83a06d57-a523-4228-93e7-d0ee7f111697 button.colab-df-convert');\n",
              "      buttonEl.style.display =\n",
              "        google.colab.kernel.accessAllowed ? 'block' : 'none';\n",
              "\n",
              "      async function convertToInteractive(key) {\n",
              "        const element = document.querySelector('#df-83a06d57-a523-4228-93e7-d0ee7f111697');\n",
              "        const dataTable =\n",
              "          await google.colab.kernel.invokeFunction('convertToInteractive',\n",
              "                                                    [key], {});\n",
              "        if (!dataTable) return;\n",
              "\n",
              "        const docLinkHtml = 'Like what you see? Visit the ' +\n",
              "          '<a target=\"_blank\" href=https://colab.research.google.com/notebooks/data_table.ipynb>data table notebook</a>'\n",
              "          + ' to learn more about interactive tables.';\n",
              "        element.innerHTML = '';\n",
              "        dataTable['output_type'] = 'display_data';\n",
              "        await google.colab.output.renderOutput(dataTable, element);\n",
              "        const docLink = document.createElement('div');\n",
              "        docLink.innerHTML = docLinkHtml;\n",
              "        element.appendChild(docLink);\n",
              "      }\n",
              "    </script>\n",
              "  </div>\n",
              "\n",
              "\n",
              "<div id=\"df-f74e87a0-a9fe-4861-a035-a0919b83f500\">\n",
              "  <button class=\"colab-df-quickchart\" onclick=\"quickchart('df-f74e87a0-a9fe-4861-a035-a0919b83f500')\"\n",
              "            title=\"Suggest charts\"\n",
              "            style=\"display:none;\">\n",
              "\n",
              "<svg xmlns=\"http://www.w3.org/2000/svg\" height=\"24px\"viewBox=\"0 0 24 24\"\n",
              "     width=\"24px\">\n",
              "    <g>\n",
              "        <path d=\"M19 3H5c-1.1 0-2 .9-2 2v14c0 1.1.9 2 2 2h14c1.1 0 2-.9 2-2V5c0-1.1-.9-2-2-2zM9 17H7v-7h2v7zm4 0h-2V7h2v10zm4 0h-2v-4h2v4z\"/>\n",
              "    </g>\n",
              "</svg>\n",
              "  </button>\n",
              "\n",
              "<style>\n",
              "  .colab-df-quickchart {\n",
              "      --bg-color: #E8F0FE;\n",
              "      --fill-color: #1967D2;\n",
              "      --hover-bg-color: #E2EBFA;\n",
              "      --hover-fill-color: #174EA6;\n",
              "      --disabled-fill-color: #AAA;\n",
              "      --disabled-bg-color: #DDD;\n",
              "  }\n",
              "\n",
              "  [theme=dark] .colab-df-quickchart {\n",
              "      --bg-color: #3B4455;\n",
              "      --fill-color: #D2E3FC;\n",
              "      --hover-bg-color: #434B5C;\n",
              "      --hover-fill-color: #FFFFFF;\n",
              "      --disabled-bg-color: #3B4455;\n",
              "      --disabled-fill-color: #666;\n",
              "  }\n",
              "\n",
              "  .colab-df-quickchart {\n",
              "    background-color: var(--bg-color);\n",
              "    border: none;\n",
              "    border-radius: 50%;\n",
              "    cursor: pointer;\n",
              "    display: none;\n",
              "    fill: var(--fill-color);\n",
              "    height: 32px;\n",
              "    padding: 0;\n",
              "    width: 32px;\n",
              "  }\n",
              "\n",
              "  .colab-df-quickchart:hover {\n",
              "    background-color: var(--hover-bg-color);\n",
              "    box-shadow: 0 1px 2px rgba(60, 64, 67, 0.3), 0 1px 3px 1px rgba(60, 64, 67, 0.15);\n",
              "    fill: var(--button-hover-fill-color);\n",
              "  }\n",
              "\n",
              "  .colab-df-quickchart-complete:disabled,\n",
              "  .colab-df-quickchart-complete:disabled:hover {\n",
              "    background-color: var(--disabled-bg-color);\n",
              "    fill: var(--disabled-fill-color);\n",
              "    box-shadow: none;\n",
              "  }\n",
              "\n",
              "  .colab-df-spinner {\n",
              "    border: 2px solid var(--fill-color);\n",
              "    border-color: transparent;\n",
              "    border-bottom-color: var(--fill-color);\n",
              "    animation:\n",
              "      spin 1s steps(1) infinite;\n",
              "  }\n",
              "\n",
              "  @keyframes spin {\n",
              "    0% {\n",
              "      border-color: transparent;\n",
              "      border-bottom-color: var(--fill-color);\n",
              "      border-left-color: var(--fill-color);\n",
              "    }\n",
              "    20% {\n",
              "      border-color: transparent;\n",
              "      border-left-color: var(--fill-color);\n",
              "      border-top-color: var(--fill-color);\n",
              "    }\n",
              "    30% {\n",
              "      border-color: transparent;\n",
              "      border-left-color: var(--fill-color);\n",
              "      border-top-color: var(--fill-color);\n",
              "      border-right-color: var(--fill-color);\n",
              "    }\n",
              "    40% {\n",
              "      border-color: transparent;\n",
              "      border-right-color: var(--fill-color);\n",
              "      border-top-color: var(--fill-color);\n",
              "    }\n",
              "    60% {\n",
              "      border-color: transparent;\n",
              "      border-right-color: var(--fill-color);\n",
              "    }\n",
              "    80% {\n",
              "      border-color: transparent;\n",
              "      border-right-color: var(--fill-color);\n",
              "      border-bottom-color: var(--fill-color);\n",
              "    }\n",
              "    90% {\n",
              "      border-color: transparent;\n",
              "      border-bottom-color: var(--fill-color);\n",
              "    }\n",
              "  }\n",
              "</style>\n",
              "\n",
              "  <script>\n",
              "    async function quickchart(key) {\n",
              "      const quickchartButtonEl =\n",
              "        document.querySelector('#' + key + ' button');\n",
              "      quickchartButtonEl.disabled = true;  // To prevent multiple clicks.\n",
              "      quickchartButtonEl.classList.add('colab-df-spinner');\n",
              "      try {\n",
              "        const charts = await google.colab.kernel.invokeFunction(\n",
              "            'suggestCharts', [key], {});\n",
              "      } catch (error) {\n",
              "        console.error('Error during call to suggestCharts:', error);\n",
              "      }\n",
              "      quickchartButtonEl.classList.remove('colab-df-spinner');\n",
              "      quickchartButtonEl.classList.add('colab-df-quickchart-complete');\n",
              "    }\n",
              "    (() => {\n",
              "      let quickchartButtonEl =\n",
              "        document.querySelector('#df-f74e87a0-a9fe-4861-a035-a0919b83f500 button');\n",
              "      quickchartButtonEl.style.display =\n",
              "        google.colab.kernel.accessAllowed ? 'block' : 'none';\n",
              "    })();\n",
              "  </script>\n",
              "</div>\n",
              "\n",
              "  <div id=\"id_edfc5d16-8b76-486f-8a29-bb57555d9bdd\">\n",
              "    <style>\n",
              "      .colab-df-generate {\n",
              "        background-color: #E8F0FE;\n",
              "        border: none;\n",
              "        border-radius: 50%;\n",
              "        cursor: pointer;\n",
              "        display: none;\n",
              "        fill: #1967D2;\n",
              "        height: 32px;\n",
              "        padding: 0 0 0 0;\n",
              "        width: 32px;\n",
              "      }\n",
              "\n",
              "      .colab-df-generate:hover {\n",
              "        background-color: #E2EBFA;\n",
              "        box-shadow: 0px 1px 2px rgba(60, 64, 67, 0.3), 0px 1px 3px 1px rgba(60, 64, 67, 0.15);\n",
              "        fill: #174EA6;\n",
              "      }\n",
              "\n",
              "      [theme=dark] .colab-df-generate {\n",
              "        background-color: #3B4455;\n",
              "        fill: #D2E3FC;\n",
              "      }\n",
              "\n",
              "      [theme=dark] .colab-df-generate:hover {\n",
              "        background-color: #434B5C;\n",
              "        box-shadow: 0px 1px 3px 1px rgba(0, 0, 0, 0.15);\n",
              "        filter: drop-shadow(0px 1px 2px rgba(0, 0, 0, 0.3));\n",
              "        fill: #FFFFFF;\n",
              "      }\n",
              "    </style>\n",
              "    <button class=\"colab-df-generate\" onclick=\"generateWithVariable('df_media')\"\n",
              "            title=\"Generate code using this dataframe.\"\n",
              "            style=\"display:none;\">\n",
              "\n",
              "  <svg xmlns=\"http://www.w3.org/2000/svg\" height=\"24px\"viewBox=\"0 0 24 24\"\n",
              "       width=\"24px\">\n",
              "    <path d=\"M7,19H8.4L18.45,9,17,7.55,7,17.6ZM5,21V16.75L18.45,3.32a2,2,0,0,1,2.83,0l1.4,1.43a1.91,1.91,0,0,1,.58,1.4,1.91,1.91,0,0,1-.58,1.4L9.25,21ZM18.45,9,17,7.55Zm-12,3A5.31,5.31,0,0,0,4.9,8.1,5.31,5.31,0,0,0,1,6.5,5.31,5.31,0,0,0,4.9,4.9,5.31,5.31,0,0,0,6.5,1,5.31,5.31,0,0,0,8.1,4.9,5.31,5.31,0,0,0,12,6.5,5.46,5.46,0,0,0,6.5,12Z\"/>\n",
              "  </svg>\n",
              "    </button>\n",
              "    <script>\n",
              "      (() => {\n",
              "      const buttonEl =\n",
              "        document.querySelector('#id_edfc5d16-8b76-486f-8a29-bb57555d9bdd button.colab-df-generate');\n",
              "      buttonEl.style.display =\n",
              "        google.colab.kernel.accessAllowed ? 'block' : 'none';\n",
              "\n",
              "      buttonEl.onclick = () => {\n",
              "        google.colab.notebook.generateWithVariable('df_media');\n",
              "      }\n",
              "      })();\n",
              "    </script>\n",
              "  </div>\n",
              "\n",
              "    </div>\n",
              "  </div>\n"
            ],
            "text/plain": [
              "              muestra de las medias\n",
              "muestras_1                   599.46\n",
              "muestras_2                   604.18\n",
              "muestras_3                   601.84\n",
              "muestras_4                   599.44\n",
              "muestras_5                   597.68\n",
              "...                             ...\n",
              "muestras_96                  596.72\n",
              "muestras_97                  599.94\n",
              "muestras_98                  601.56\n",
              "muestras_99                  603.28\n",
              "muestras_100                 599.46\n",
              "\n",
              "[100 rows x 1 columns]"
            ]
          },
          "execution_count": 14,
          "metadata": {},
          "output_type": "execute_result"
        }
      ],
      "source": [
        "import pandas as pd\n",
        "\n",
        "df = pd.DataFrame()\n",
        "\n",
        "for i in range(1,101):\n",
        "  muestras_binomiales = npr.binomial(1000, 0.6, 50)\n",
        "  col = f\"muestras_{i}\"\n",
        "  df[col] = muestras_binomiales\n",
        "\n",
        "df_media = pd.DataFrame(df.mean(), columns = [\"muestra de las medias\"])\n",
        "\n",
        "df_media"
      ]
    },
    {
      "cell_type": "code",
      "execution_count": null,
      "metadata": {
        "colab": {
          "base_uri": "https://localhost:8080/",
          "height": 662
        },
        "id": "EdO7LtLxGQpc",
        "outputId": "6e3e474a-8990-4dfc-b6e9-99f8212b18d8"
      },
      "outputs": [
        {
          "name": "stderr",
          "output_type": "stream",
          "text": [
            "<ipython-input-15-e7d1ee3a7678>:3: UserWarning: \n",
            "\n",
            "`distplot` is a deprecated function and will be removed in seaborn v0.14.0.\n",
            "\n",
            "Please adapt your code to use either `displot` (a figure-level function with\n",
            "similar flexibility) or `histplot` (an axes-level function for histograms).\n",
            "\n",
            "For a guide to updating your code to use the new functions, please see\n",
            "https://gist.github.com/mwaskom/de44147ed2974457ad6372750bbe5751\n",
            "\n",
            "  sns.distplot(df_media)\n"
          ]
        },
        {
          "data": {
            "text/plain": [
              "<Axes: ylabel='Density'>"
            ]
          },
          "execution_count": 15,
          "metadata": {},
          "output_type": "execute_result"
        },
        {
          "data": {
            "image/png": "[encoded data removed]",
            "text/plain": [
              "<Figure size 640x480 with 1 Axes>"
            ]
          },
          "metadata": {},
          "output_type": "display_data"
        }
      ],
      "source": [
        "import seaborn as sns\n",
        "\n",
        "sns.distplot(df_media)"
      ]
    },
    {
      "cell_type": "code",
      "execution_count": null,
      "metadata": {
        "colab": {
          "base_uri": "https://localhost:8080/",
          "height": 662
        },
        "id": "WfgREtt-Hn8l",
        "outputId": "098299ae-3f99-47e5-c389-f2af6d538f05"
      },
      "outputs": [
        {
          "name": "stderr",
          "output_type": "stream",
          "text": [
            "<ipython-input-19-c5b674894402>:13: UserWarning: \n",
            "\n",
            "`distplot` is a deprecated function and will be removed in seaborn v0.14.0.\n",
            "\n",
            "Please adapt your code to use either `displot` (a figure-level function with\n",
            "similar flexibility) or `histplot` (an axes-level function for histograms).\n",
            "\n",
            "For a guide to updating your code to use the new functions, please see\n",
            "https://gist.github.com/mwaskom/de44147ed2974457ad6372750bbe5751\n",
            "\n",
            "  sns.distplot(df_media)\n"
          ]
        },
        {
          "data": {
            "text/plain": [
              "<Axes: ylabel='Density'>"
            ]
          },
          "execution_count": 19,
          "metadata": {},
          "output_type": "execute_result"
        },
        {
          "data": {
            "image/png": "[encoded data removed]",
            "text/plain": [
              "<Figure size 640x480 with 1 Axes>"
            ]
          },
          "metadata": {},
          "output_type": "display_data"
        }
      ],
      "source": [
        "import seaborn as sns\n",
        "\n",
        "df = pd.DataFrame()\n",
        "\n",
        "for i in range(1,101):\n",
        "  muestras_exponenciales = npr.exponential(1, 50)\n",
        "  col = f\"muestras_{i}\"\n",
        "  df[col] = muestras_exponenciales\n",
        "\n",
        "df_media = pd.DataFrame(df.mean(), columns = [\"muestra de las medias\"])\n",
        "\n",
        "\n",
        "sns.distplot(df_media)"
      ]
    },
    {
      "cell_type": "markdown",
      "metadata": {
        "id": "VmOeSCZi5f1j"
      },
      "source": [
        "## Ejercicios (1 de agosto):\n",
        "- Crea un diccionario y represéntalo en un `DataFrame`. Las columnas del DataFrame deben ser números aleatorios enteros (revisar la documentación de random en numpy).\n",
        "- Usa funciones del módulo de pandas para describir tu base de datos y da la estadística descriptiva de tus datos.\n",
        "- Realiza rebanadas a la base de datos y filtros que creas necesarias.\n",
        "- Busca en [Kaggle](https://www.kaggle.com) una base de datos. Móntala en tu drive y da lectura en un DataFrame.\n",
        "- Usando funciones de Pandas, realiza al menos 10 filtros a la base de datos.\n",
        "- Realiza 5 preguntas y contéstalas usando filtros necesarios.\n",
        "- Da una visualización del TCL usando muestras exponenciales.\n"
      ]
    }
  ],
  "metadata": {
    "colab": {
      "provenance": []
    },
    "kernelspec": {
      "display_name": "Python 3",
      "name": "python3"
    },
    "language_info": {
      "codemirror_mode": {
        "name": "ipython",
        "version": 3
      },
      "file_extension": ".py",
      "mimetype": "text/x-python",
      "name": "python",
      "nbconvert_exporter": "python",
      "pygments_lexer": "ipython3",
      "version": "3.11.4"
    }
  },
  "nbformat": 4,
  "nbformat_minor": 0
}
