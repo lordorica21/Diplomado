{
  "nbformat": 4,
  "nbformat_minor": 0,
  "metadata": {
    "colab": {
      "provenance": []
    },
    "kernelspec": {
      "name": "python3",
      "display_name": "Python 3"
    },
    "language_info": {
      "name": "python"
    }
  },
  "cells": [
    {
      "cell_type": "markdown",
      "source": [
        "# Primeros objetos\n",
        "## Tipos de objetos:\n",
        "\n",
        "\n",
        "1.   Números(int, float).\n",
        "2.   Cadenas (str) strings.\n",
        "3.   Listas.\n",
        "4.   Conjuntos.\n",
        "\n"
      ],
      "metadata": {
        "id": "-l4Uw33GI56B"
      }
    },
    {
      "cell_type": "code",
      "source": [
        "print(2+3)\n",
        "\n",
        "print(2*3)\n",
        "\n",
        "print(2**3)\n",
        "\n",
        "print(2/3)\n",
        "\n",
        "print(2//3) #División al piso\n",
        "\n",
        "print(5//3)"
      ],
      "metadata": {
        "colab": {
          "base_uri": "https://localhost:8080/"
        },
        "id": "C9YMAvMlK9cb",
        "outputId": "12357fba-ed83-4dad-9c95-6ee804c5459e"
      },
      "execution_count": null,
      "outputs": [
        {
          "output_type": "stream",
          "name": "stdout",
          "text": [
            "5\n",
            "6\n",
            "8\n",
            "0.6666666666666666\n",
            "0\n",
            "1\n"
          ]
        }
      ]
    },
    {
      "cell_type": "code",
      "source": [
        "# Operación modular % residuo al dividir un número entero\n",
        "3 % 2"
      ],
      "metadata": {
        "colab": {
          "base_uri": "https://localhost:8080/"
        },
        "id": "RkQirNJkLFPR",
        "outputId": "1e3c85c4-97c8-42b2-e679-d33f0b726b5d"
      },
      "execution_count": null,
      "outputs": [
        {
          "output_type": "execute_result",
          "data": {
            "text/plain": [
              "1"
            ]
          },
          "metadata": {},
          "execution_count": 9
        }
      ]
    },
    {
      "cell_type": "code",
      "source": [
        "2**(0.5)"
      ],
      "metadata": {
        "colab": {
          "base_uri": "https://localhost:8080/"
        },
        "id": "JrmGuUgtNH8Y",
        "outputId": "ab60b937-50ab-43e3-f57a-aba26ec43837"
      },
      "execution_count": null,
      "outputs": [
        {
          "output_type": "execute_result",
          "data": {
            "text/plain": [
              "1.4142135623730951"
            ]
          },
          "metadata": {},
          "execution_count": 13
        }
      ]
    },
    {
      "cell_type": "markdown",
      "source": [
        "Una variable (en python) se escribe como sigue\n",
        "\n",
        "nombre = objeto"
      ],
      "metadata": {
        "id": "bW51xcyuYHuF"
      }
    },
    {
      "cell_type": "code",
      "source": [
        "numero = 6\n",
        "nombre = \"nahomi\"\n",
        "altura = 1.51"
      ],
      "metadata": {
        "id": "6c0Pke-3Ya3W"
      },
      "execution_count": null,
      "outputs": []
    },
    {
      "cell_type": "code",
      "source": [
        "nombre"
      ],
      "metadata": {
        "colab": {
          "base_uri": "https://localhost:8080/",
          "height": 36
        },
        "id": "XG_rvlHlYy0y",
        "outputId": "53cb7611-d429-47c8-ace9-a5b21bb8f51d"
      },
      "execution_count": null,
      "outputs": [
        {
          "output_type": "execute_result",
          "data": {
            "text/plain": [
              "'nahomi'"
            ],
            "application/vnd.google.colaboratory.intrinsic+json": {
              "type": "string"
            }
          },
          "metadata": {},
          "execution_count": 16
        }
      ]
    },
    {
      "cell_type": "code",
      "source": [
        "numero + 80"
      ],
      "metadata": {
        "colab": {
          "base_uri": "https://localhost:8080/"
        },
        "id": "oDh-0C9GY4Cn",
        "outputId": "2cbe95cf-7751-4bd0-eee8-2ae8cd2c0680"
      },
      "execution_count": null,
      "outputs": [
        {
          "output_type": "execute_result",
          "data": {
            "text/plain": [
              "86"
            ]
          },
          "metadata": {},
          "execution_count": 17
        }
      ]
    },
    {
      "cell_type": "code",
      "source": [
        "print(\"Hola, mundo\") #print es una función dentro de python"
      ],
      "metadata": {
        "colab": {
          "base_uri": "https://localhost:8080/"
        },
        "id": "3ZCh3EKiY8xa",
        "outputId": "ecb6d872-432e-4a68-e252-6e6e4d92fcab"
      },
      "execution_count": null,
      "outputs": [
        {
          "output_type": "stream",
          "name": "stdout",
          "text": [
            "Hola, mundo\n"
          ]
        }
      ]
    },
    {
      "cell_type": "markdown",
      "source": [
        "### Listas\n",
        "Una lista es un contenedor de objetos\n",
        "Estos objetos se crean [ ]\n",
        "\n"
      ],
      "metadata": {
        "id": "aQ7NMc02ZL1D"
      }
    },
    {
      "cell_type": "code",
      "source": [
        "[ ]"
      ],
      "metadata": {
        "colab": {
          "base_uri": "https://localhost:8080/"
        },
        "id": "uL3wig9xZjf5",
        "outputId": "3f4cba07-a3bb-4fd1-d622-9baacdf8b47a"
      },
      "execution_count": null,
      "outputs": [
        {
          "output_type": "execute_result",
          "data": {
            "text/plain": [
              "[]"
            ]
          },
          "metadata": {},
          "execution_count": 19
        }
      ]
    },
    {
      "cell_type": "code",
      "source": [
        "type([\"Nahomi\"])"
      ],
      "metadata": {
        "colab": {
          "base_uri": "https://localhost:8080/"
        },
        "id": "9IyXeud_ZoTK",
        "outputId": "c5962978-f5c5-4fb0-9f11-80091ef57cd6"
      },
      "execution_count": null,
      "outputs": [
        {
          "output_type": "execute_result",
          "data": {
            "text/plain": [
              "list"
            ]
          },
          "metadata": {},
          "execution_count": 21
        }
      ]
    },
    {
      "cell_type": "code",
      "source": [
        "lista_1 = [6, \"Nahomi\", 1.61]\n",
        "lista_2 = [\"piña\", [1,2], \"sal\"]\n",
        "lista_2"
      ],
      "metadata": {
        "colab": {
          "base_uri": "https://localhost:8080/"
        },
        "id": "6FBF53T2ZzoA",
        "outputId": "711c7281-dc04-43dd-a6d5-89f3ddbb59ac"
      },
      "execution_count": null,
      "outputs": [
        {
          "output_type": "execute_result",
          "data": {
            "text/plain": [
              "['piña', [1, 2], 'sal']"
            ]
          },
          "metadata": {},
          "execution_count": 23
        }
      ]
    },
    {
      "cell_type": "code",
      "source": [
        "lista_1 + lista_2"
      ],
      "metadata": {
        "colab": {
          "base_uri": "https://localhost:8080/"
        },
        "id": "9vpSZJvNa3cW",
        "outputId": "f220fdea-901b-40a0-b537-0020344fb8ce"
      },
      "execution_count": null,
      "outputs": [
        {
          "output_type": "execute_result",
          "data": {
            "text/plain": [
              "[6, 'Nahomi', 1.61, 'piña', [1, 2], 'sal']"
            ]
          },
          "metadata": {},
          "execution_count": 24
        }
      ]
    },
    {
      "cell_type": "code",
      "source": [
        "lista_3 = [1, 2, 3, 4]\n",
        "lista_4 = [5, 6, 7, 8]"
      ],
      "metadata": {
        "id": "rx7LJX06bKyn"
      },
      "execution_count": null,
      "outputs": []
    },
    {
      "cell_type": "code",
      "source": [
        "lista_3+lista_4"
      ],
      "metadata": {
        "colab": {
          "base_uri": "https://localhost:8080/"
        },
        "id": "7LCKI04Cbq2g",
        "outputId": "b5ec0a0b-b3f8-4333-8d78-d44e818aefe3"
      },
      "execution_count": null,
      "outputs": [
        {
          "output_type": "execute_result",
          "data": {
            "text/plain": [
              "[1, 2, 3, 4, 5, 6, 7, 8]"
            ]
          },
          "metadata": {},
          "execution_count": 28
        }
      ]
    },
    {
      "cell_type": "code",
      "source": [
        "# La función len\n",
        "len (lista_1)==len (lista_2) ##Comparar dos objetos"
      ],
      "metadata": {
        "colab": {
          "base_uri": "https://localhost:8080/"
        },
        "id": "QDxjQLsmbtfI",
        "outputId": "4df6a9ed-67a9-4338-db4f-15d451e69fad"
      },
      "execution_count": null,
      "outputs": [
        {
          "output_type": "execute_result",
          "data": {
            "text/plain": [
              "True"
            ]
          },
          "metadata": {},
          "execution_count": 30
        }
      ]
    },
    {
      "cell_type": "code",
      "source": [
        "3*lista_3"
      ],
      "metadata": {
        "colab": {
          "base_uri": "https://localhost:8080/"
        },
        "id": "gLqx8_WzcQ6h",
        "outputId": "6ec75986-c6e5-45c0-bba8-adf0404a1f70"
      },
      "execution_count": null,
      "outputs": [
        {
          "output_type": "execute_result",
          "data": {
            "text/plain": [
              "[1, 2, 3, 4, 1, 2, 3, 4, 1, 2, 3, 4]"
            ]
          },
          "metadata": {},
          "execution_count": 31
        }
      ]
    },
    {
      "cell_type": "markdown",
      "source": [
        "### Accesos"
      ],
      "metadata": {
        "id": "AFgVJ8m0dKNN"
      }
    },
    {
      "cell_type": "code",
      "source": [
        "lista_2"
      ],
      "metadata": {
        "colab": {
          "base_uri": "https://localhost:8080/"
        },
        "id": "i20BG6iWdApz",
        "outputId": "fc0b4913-fa9e-4224-8724-f4a270051f9f"
      },
      "execution_count": null,
      "outputs": [
        {
          "output_type": "execute_result",
          "data": {
            "text/plain": [
              "['piña', [1, 2], 'sal']"
            ]
          },
          "metadata": {},
          "execution_count": 32
        }
      ]
    },
    {
      "cell_type": "markdown",
      "source": [
        "**En Python, las etiquetas empiezan desde 0**\n",
        "\n",
        "En las listas, sus elementos provienen con una etiqueta.\n",
        "Las etiquetas son enteros\n",
        "\n",
        "$$0, 1, 2, 3, ... $$\n",
        "La ecuación más bonita del mundo:\n",
        "$$ e^{i\\pi}+1=0$$"
      ],
      "metadata": {
        "id": "aMdhSI6LdWV6"
      }
    },
    {
      "cell_type": "markdown",
      "source": [
        "En Python, existe un generador de etiquetas (o índice):\n",
        "\n",
        "range()."
      ],
      "metadata": {
        "id": "CKvTxDUhgCYz"
      }
    },
    {
      "cell_type": "code",
      "source": [
        "range(10)"
      ],
      "metadata": {
        "colab": {
          "base_uri": "https://localhost:8080/"
        },
        "id": "JMaVS6-if_xP",
        "outputId": "6fd4947f-44b3-4d60-ffe3-075dfaf3c371"
      },
      "execution_count": null,
      "outputs": [
        {
          "output_type": "execute_result",
          "data": {
            "text/plain": [
              "range(0, 10)"
            ]
          },
          "metadata": {},
          "execution_count": 34
        }
      ]
    },
    {
      "cell_type": "code",
      "source": [
        "for i in range(10):\n",
        "  print(i)"
      ],
      "metadata": {
        "colab": {
          "base_uri": "https://localhost:8080/"
        },
        "id": "JC7lBinEgbuX",
        "outputId": "790d9291-3ce5-463c-c5aa-a96ea9d5b2dc"
      },
      "execution_count": null,
      "outputs": [
        {
          "output_type": "stream",
          "name": "stdout",
          "text": [
            "0\n",
            "1\n",
            "2\n",
            "3\n",
            "4\n",
            "5\n",
            "6\n",
            "7\n",
            "8\n",
            "9\n"
          ]
        }
      ]
    },
    {
      "cell_type": "code",
      "source": [
        "for i in lista_1:\n",
        "  print(i)"
      ],
      "metadata": {
        "colab": {
          "base_uri": "https://localhost:8080/"
        },
        "id": "bVIqSVTdgt1C",
        "outputId": "695530cf-4e73-4674-f8ab-7aeb6cdff9fa"
      },
      "execution_count": null,
      "outputs": [
        {
          "output_type": "stream",
          "name": "stdout",
          "text": [
            "6\n",
            "Nahomi\n",
            "1.61\n"
          ]
        }
      ]
    },
    {
      "cell_type": "code",
      "source": [
        "indices = {x for x in range(1,10)}\n",
        "\n",
        "indices"
      ],
      "metadata": {
        "colab": {
          "base_uri": "https://localhost:8080/"
        },
        "id": "ufkXmEM9hGDN",
        "outputId": "72261b87-108c-44e1-f28d-c37a0146c6a5"
      },
      "execution_count": null,
      "outputs": [
        {
          "output_type": "execute_result",
          "data": {
            "text/plain": [
              "{1, 2, 3, 4, 5, 6, 7, 8, 9}"
            ]
          },
          "metadata": {},
          "execution_count": 44
        }
      ]
    },
    {
      "cell_type": "code",
      "source": [
        "L = []\n",
        "for o in range(1,6):\n",
        "  L.append(o) # Agrega elementos a una lista"
      ],
      "metadata": {
        "id": "zK7xyCPxikNZ"
      },
      "execution_count": null,
      "outputs": []
    },
    {
      "cell_type": "code",
      "source": [
        "L"
      ],
      "metadata": {
        "colab": {
          "base_uri": "https://localhost:8080/"
        },
        "id": "I6M0JdHwi2cS",
        "outputId": "39ce4b4f-43b9-4edd-d8af-67d5032df82f"
      },
      "execution_count": null,
      "outputs": [
        {
          "output_type": "execute_result",
          "data": {
            "text/plain": [
              "[1, 2, 3, 4, 5]"
            ]
          },
          "metadata": {},
          "execution_count": 48
        }
      ]
    },
    {
      "cell_type": "code",
      "source": [
        "L.remove(0)\n",
        "L"
      ],
      "metadata": {
        "colab": {
          "base_uri": "https://localhost:8080/"
        },
        "id": "6dAdWVhXi32A",
        "outputId": "ab31a8c0-6c04-4879-f763-ed4001ca38c1"
      },
      "execution_count": null,
      "outputs": [
        {
          "output_type": "execute_result",
          "data": {
            "text/plain": [
              "[1, 2, 3, 4, 5]"
            ]
          },
          "metadata": {},
          "execution_count": 50
        }
      ]
    },
    {
      "cell_type": "code",
      "source": [
        "# Accesos\n",
        "lista_2[1][1]"
      ],
      "metadata": {
        "colab": {
          "base_uri": "https://localhost:8080/"
        },
        "id": "EQOC_a95jFSw",
        "outputId": "dd0cf2f9-1115-48a5-e5e1-23f6cf603d25"
      },
      "execution_count": null,
      "outputs": [
        {
          "output_type": "execute_result",
          "data": {
            "text/plain": [
              "2"
            ]
          },
          "metadata": {},
          "execution_count": 56
        }
      ]
    }
  ]
}